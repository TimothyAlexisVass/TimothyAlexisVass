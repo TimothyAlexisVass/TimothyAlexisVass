{
  "nbformat": 4,
  "nbformat_minor": 0,
  "metadata": {
    "colab": {
      "provenance": [],
      "authorship_tag": "ABX9TyOqR+9gciPC1z1eIxFop1gS",
      "include_colab_link": true
    },
    "kernelspec": {
      "name": "python3",
      "display_name": "Python 3"
    },
    "language_info": {
      "name": "python"
    }
  },
  "cells": [
    {
      "cell_type": "markdown",
      "metadata": {
        "id": "view-in-github",
        "colab_type": "text"
      },
      "source": [
        "<a href=\"https://colab.research.google.com/github/TimothyAlexisVass/TimothyAlexisVass/blob/main/anonymisering.ipynb\" target=\"_parent\"><img src=\"https://colab.research.google.com/assets/colab-badge.svg\" alt=\"Open In Colab\"/></a>"
      ]
    },
    {
      "cell_type": "code",
      "source": [
        "!pip install spacy\n",
        "!python -m spacy download sv_core_news_sm"
      ],
      "metadata": {
        "id": "Es5hS8FoJ3by"
      },
      "execution_count": null,
      "outputs": []
    },
    {
      "cell_type": "code",
      "source": [
        "import spacy\n",
        "import re\n",
        "\n",
        "nlp = spacy.load(\"sv_core_news_sm\")\n",
        "\n",
        "text = \"Anna Andersson bor på Götgatan 29, har e-post anna.andersson@example.com och hennes telefonnummer är +46 70 123 45 67.\"\n",
        "\n",
        "doc = nlp(text)\n",
        "marked_text = text\n",
        "\n",
        "LABEL = {\n",
        "    \"PRS\": \"PERSON\",\n",
        "    \"LOC\": \"PLATS\"\n",
        "}\n",
        "\n",
        "# Replace PER, LOC, ORG, GPE\n",
        "for ent in doc.ents:\n",
        "    if ent.label_ in [\"PRS\", \"LOC\"]:\n",
        "      marked_text = marked_text.replace(ent.text, f\"[{LABEL[ent.label_]}]\")\n",
        "\n",
        "# Replace emails\n",
        "email_pattern = re.compile(r'\\b[\\w.-]+?@\\w+?\\.\\w+?\\b')\n",
        "marked_text = email_pattern.sub('[EPOST]', marked_text)\n",
        "\n",
        "# Replace Swedish phone numbers\n",
        "phone_pattern = re.compile(r'(?:\\+?\\d[\\d\\s\\-()]*){6,}')\n",
        "marked_text = phone_pattern.sub('[TELEFON]', marked_text)\n",
        "\n",
        "print(marked_text)\n"
      ],
      "metadata": {
        "colab": {
          "base_uri": "https://localhost:8080/"
        },
        "id": "aHi0jpr7J55D",
        "outputId": "706cb912-35e5-4d9e-bd45-20841863697d"
      },
      "execution_count": 22,
      "outputs": [
        {
          "output_type": "stream",
          "name": "stdout",
          "text": [
            "[PERSON] bor på [PLATS] 29, har e-post [EPOST] och hennes telefonnummer är [TELEFON].\n"
          ]
        }
      ]
    }
  ]
}